{
 "cells": [
  {
   "cell_type": "code",
   "execution_count": 20,
   "metadata": {},
   "outputs": [],
   "source": [
    "# 20 voitures par pages\n",
    "#"
   ]
  },
  {
   "cell_type": "code",
   "execution_count": 21,
   "metadata": {},
   "outputs": [],
   "source": [
    "from selenium import webdriver\n",
    "from selenium.webdriver.common.by import By\n",
    "from selenium.webdriver.chrome.options import Options\n",
    "import time\n",
    "import pandas as pd\n",
    "import datetime"
   ]
  },
  {
   "cell_type": "code",
   "execution_count": 22,
   "metadata": {},
   "outputs": [
    {
     "name": "stderr",
     "output_type": "stream",
     "text": [
      "/var/folders/1_/54_5j3cn25jd5mt0cyzggqj80000gn/T/ipykernel_85079/338135737.py:7: DeprecationWarning: executable_path has been deprecated, please pass in a Service object\n",
      "  driver = webdriver.Chrome(DRIVER_PATH, options=chrome_options)\n"
     ]
    }
   ],
   "source": [
    "# Garder la page ouverte\n",
    "chrome_options = Options() \n",
    "chrome_options.add_experimental_option(\"detach\", True)\n",
    "\n",
    "# On recupere le controle du driver\n",
    "DRIVER_PATH = \"./chromedriver\"\n",
    "driver = webdriver.Chrome(DRIVER_PATH, options=chrome_options)\n",
    "driver.implicitly_wait(10)"
   ]
  },
  {
   "cell_type": "code",
   "execution_count": 23,
   "metadata": {},
   "outputs": [],
   "source": [
    "page_url = \"https://www.aramisauto.com/achat/recherche?page=0\"\n",
    "driver.get(page_url)\n",
    "time.sleep(5)\n",
    "driver.find_element(By.XPATH, \"/html/body/div[1]/div/div/div/div/div/div[2]/button[2]\").click()\n",
    "time.sleep(5)"
   ]
  },
  {
   "cell_type": "code",
   "execution_count": 24,
   "metadata": {},
   "outputs": [
    {
     "name": "stdout",
     "output_type": "stream",
     "text": [
      "2972\n",
      "148\n",
      "12\n"
     ]
    }
   ],
   "source": [
    "# on récupère le nombre de voiture a scrapper\n",
    "nbr_voitures = int(driver.find_element(By.XPATH, \"/html/body/div[3]/div[2]/form/div[2]/div/h2/span[1]\").text)\n",
    "\n",
    "# on recupere le nombre de page\n",
    "nbr_pages = int(nbr_voitures / 20)\n",
    "\n",
    "# on recupere le nombre de voitures sur la derniere page\n",
    "nbr_voitures_derniere_page = nbr_voitures - (nbr_pages*20)\n",
    "\n",
    "print(nbr_voitures)\n",
    "print(nbr_pages)\n",
    "print(nbr_voitures_derniere_page)\n",
    "\n",
    "driver.close()\n",
    "driver.quit()"
   ]
  },
  {
   "cell_type": "code",
   "execution_count": 25,
   "metadata": {},
   "outputs": [],
   "source": [
    "#Creation des tableaux qui ou seront stockées les données de chaque voiture\n",
    "Nom = []\n",
    "Prix = []\n",
    "Mise_en_circulation = []\n",
    "Type = []\n",
    "Kilometrage = []\n",
    "\n",
    "Motorisation = []\n",
    "Carburant = []\n",
    "BDV = []\n",
    "\n",
    "Puissance_fiscale = []"
   ]
  },
  {
   "cell_type": "code",
   "execution_count": 26,
   "metadata": {},
   "outputs": [
    {
     "name": "stderr",
     "output_type": "stream",
     "text": [
      "/var/folders/1_/54_5j3cn25jd5mt0cyzggqj80000gn/T/ipykernel_85079/3959814069.py:11: DeprecationWarning: executable_path has been deprecated, please pass in a Service object\n",
      "  driver = webdriver.Chrome(DRIVER_PATH, options=chrome_options)\n"
     ]
    },
    {
     "name": "stdout",
     "output_type": "stream",
     "text": [
      "1\n",
      "2\n",
      "3\n",
      "4\n",
      "5\n",
      "6\n",
      "7\n",
      "8\n",
      "9\n",
      "10\n",
      "11\n",
      "12\n",
      "13\n",
      "14\n",
      "15\n",
      "16\n",
      "17\n",
      "18\n",
      "19\n",
      "20\n"
     ]
    }
   ],
   "source": [
    "#for i in range(nbr_pages):\n",
    "for i in range(1):\n",
    "\n",
    "    try:\n",
    "        # Garder la page ouverte\n",
    "        chrome_options = Options() \n",
    "        chrome_options.add_experimental_option(\"detach\", True)\n",
    "\n",
    "        # On recupere le controle du driver\n",
    "        DRIVER_PATH = \"./chromedriver\"\n",
    "        driver = webdriver.Chrome(DRIVER_PATH, options=chrome_options)\n",
    "        driver.implicitly_wait(10)\n",
    "\n",
    "        page_url = \"https://www.aramisauto.com/achat/recherche?page=\" + str(i)\n",
    "        driver.get(page_url)\n",
    "        time.sleep(5)\n",
    "        driver.find_element(By.XPATH, \"/html/body/div[1]/div/div/div/div/div/div[2]/button[2]\").click()\n",
    "        time.sleep(5)\n",
    "\n",
    "        if i == nbr_pages :\n",
    "            elem = nbr_voitures_derniere_page\n",
    "        else :\n",
    "            elem = 20\n",
    "\n",
    "        for i in range(1, 21):\n",
    "            print(i)\n",
    "\n",
    "            try:\n",
    "                if i == 4 :\n",
    "                    pass\n",
    "                else :\n",
    "                    driver.find_element(By.XPATH, f\"/html/body/div[3]/div[3]/div/div/div[{i}]/div/div[2]/div[1]/a\").click()\n",
    "                    time.sleep(5)\n",
    "\n",
    "                    try:\n",
    "                        nom = driver.find_element(By.XPATH, \"/html/body/div[2]/div/div/div[1]/div[1]/div[2]/div/div[2]/div[2]/div[2]/div/div/div/div/div/div[1]/div[2]/div/h1/ul/li[1]\").text\n",
    "                    except:\n",
    "                        nom = None\n",
    "\n",
    "                    try:\n",
    "                        prix = driver.find_element(By.XPATH, \"/html/body/div[2]/div/div/div[1]/div[1]/div[2]/div/div[2]/div[2]/div[2]/div/div/div/div/div/div[3]/div/div/div[1]/div/div\").text\n",
    "                    except:\n",
    "                        prix = None\n",
    "\n",
    "                    try:\n",
    "                        garantie = driver.find_element(By.XPATH, \"/html/body/div[2]/div/div/div[1]/div[1]/div[2]/div/div[2]/div[2]/div[2]/div/div/div/div/div/div[2]/div/div[2]/p[2]\").text\n",
    "                    except:\n",
    "                        garantie = None\n",
    "\n",
    "                    try:\n",
    "                        mise_en_circulation = driver.find_element(By.XPATH, \"/html/body/div[2]/div/div/div[1]/div[1]/div[2]/div/div[2]/div[2]/div[3]/section/div/div/div/div[1]/div[3]/div/div[2]/div[2]\").text\n",
    "                    except:\n",
    "                        mise_en_circulation = None\n",
    "\n",
    "\n",
    "                    # Split le type en (type <=> kilométrage)\n",
    "                    try:\n",
    "                        type = driver.find_element(By.XPATH, \"/html/body/div[2]/div/div/div[1]/div[1]/div[2]/div/div[2]/div[2]/div[2]/div/div/div/div/div/div[1]/div[2]/div/h1/ul/li[3]/span[1]\").text\n",
    "                    except:\n",
    "                        type = None\n",
    "                    \n",
    "                    try:\n",
    "                        kilometrage = driver.find_element(By.XPATH, \"/html/body/div[2]/div/div/div[1]/div[1]/div[2]/div/div[2]/div[2]/div[3]/section/div/div/div/div/div[2]/div/div[2]/div[2]\").text\n",
    "                    except:\n",
    "                        kilometrage = None\n",
    "\n",
    "                    try:\n",
    "                        motorisation = driver.find_element(By.XPATH, \"/html/body/div[2]/div/div/div[1]/div[1]/div[2]/div/div[2]/div[2]/div[2]/div/div/div/div/div/div[1]/div[2]/div/h1/ul/li[2]/span[1]\").text\n",
    "                    except:\n",
    "                        motorisation = None\n",
    "\n",
    "                    try:\n",
    "                        carburant = driver.find_element(By.XPATH, \"/html/body/div[2]/div/div/div[1]/div[1]/div[2]/div/div[2]/div[2]/div[2]/div/div/div/div/div/div[1]/div[2]/div/div[3]/div/div/ul/li[2]/span[2]\").text\n",
    "                    except:\n",
    "                        carburant = None\n",
    "\n",
    "                    try:\n",
    "                        bdv = driver.find_element(By.XPATH, \"/html/body/div[2]/div/div/div[1]/div[1]/div[2]/div/div[2]/div[2]/div[2]/div/div/div/div/div/div[1]/div[2]/div/div[3]/div/div/ul/li[1]/span[2]\").text\n",
    "                    except:\n",
    "                        bdv = None\n",
    "\n",
    "\n",
    "\n",
    "                    Nom.append(nom)\n",
    "                    Prix.append(prix)\n",
    "                    Garantie.append(garantie)\n",
    "                    Mise_en_circulation.append(mise_en_circulation)\n",
    "                    Type.append(type)\n",
    "                    Kilometrage.append(kilometrage)\n",
    "                    Motorisation.append(motorisation)\n",
    "                    Carburant.append(carburant)\n",
    "                    BDV.append(bdv)\n",
    "\n",
    "                    # print(nom)\n",
    "                    # print(prix)\n",
    "                    # print(garantie)\n",
    "                    # print(mise_en_circulation)\n",
    "                    # print(type)\n",
    "                    # print(motorisation)\n",
    "                    # print(carburant)\n",
    "                    # print(kilometrage)\n",
    "                    # print(bdv)\n",
    "                   \n",
    "\n",
    "                    driver.back()\n",
    "                    driver.execute_script(\"window.history.go(-1)\")\n",
    "                    time.sleep(5)\n",
    "\n",
    "            except:\n",
    "                pass\n",
    "        \n",
    "        driver.close()\n",
    "        driver.quit()\n",
    "\n",
    "    except:\n",
    "        pass\n",
    "\n",
    "    "
   ]
  },
  {
   "cell_type": "code",
   "execution_count": 28,
   "metadata": {},
   "outputs": [],
   "source": [
    "df = pd.DataFrame({'Nom': Nom, 'Prix': Prix, 'Garantie': Garantie, 'Mise_en_circulation': Mise_en_circulation, 'Type': Type, 'Motorisation' : Motorisation, 'Carburant': Carburant, 'Consommation': Consommation, 'Boîte de vitesse': BDV, 'Crit Aire': Certificat, 'Emission': Emission, 'Couleur': Couleur, 'Nbr_portes': Nbr_portes, 'Sellerie': Sellerie})\n",
    "df.to_csv('Aramis_auto.csv', index=False, encoding='utf-8')\n",
    "#print(df)"
   ]
  }
 ],
 "metadata": {
  "kernelspec": {
   "display_name": "Python 3.11.0 64-bit",
   "language": "python",
   "name": "python3"
  },
  "language_info": {
   "codemirror_mode": {
    "name": "ipython",
    "version": 3
   },
   "file_extension": ".py",
   "mimetype": "text/x-python",
   "name": "python",
   "nbconvert_exporter": "python",
   "pygments_lexer": "ipython3",
   "version": "3.11.0"
  },
  "orig_nbformat": 4,
  "vscode": {
   "interpreter": {
    "hash": "aee8b7b246df8f9039afb4144a1f6fd8d2ca17a180786b69acc140d282b71a49"
   }
  }
 },
 "nbformat": 4,
 "nbformat_minor": 2
}
