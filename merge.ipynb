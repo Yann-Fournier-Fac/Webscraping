{
 "cells": [
  {
   "cell_type": "code",
   "execution_count": 1,
   "metadata": {},
   "outputs": [],
   "source": [
    "import os, glob\n",
    "import pandas as pd"
   ]
  },
  {
   "cell_type": "code",
   "execution_count": null,
   "metadata": {},
   "outputs": [],
   "source": [
    "path = \"/Users/yann/Desktop/Ydays/Data/WebScraping/\" # full path des fichiers csv\n",
    "all_files = glob.glob(path + \"A*.csv\") # on fait des trucs grace au package globe\n",
    "#print(all_files) # test"
   ]
  },
  {
   "cell_type": "code",
   "execution_count": null,
   "metadata": {},
   "outputs": [],
   "source": [
    "all_df = []\n",
    "for f in all_files:\n",
    "    df = pd.read_csv(f, sep=',')\n",
    "    df['file'] = f.split('/')[-1]\n",
    "    all_df.append(df)\n",
    "\n",
    "# print(len(all_df))\n",
    "# print(all_df[2])"
   ]
  },
  {
   "cell_type": "markdown",
   "metadata": {},
   "source": []
  },
  {
   "cell_type": "code",
   "execution_count": null,
   "metadata": {},
   "outputs": [],
   "source": [
    "merged_df = pd.concat(all_df, ignore_index=True) # concatener plusieurs csv\n",
    "merged_df.drop_duplicates() # enlever les doublons \n",
    "merged_df.drop('file', inplace=True, axis=1) # supprimer la colonne 'file' (de quelle fichier provient la ligne)\n",
    "#merged_df.drop('Unnamed', inplace=True, axis=1) # supprimer la colonne '' (Il y a des sort d'indices; jsp d'ou ils viennent)\n",
    "merged_df.to_csv(\"voiture.csv\") # tout mettre dans un csv"
   ]
  },
  {
   "cell_type": "code",
   "execution_count": null,
   "metadata": {},
   "outputs": [],
   "source": [
    "#import csv\n",
    "# import sqlite3\n",
    "\n",
    "# mydb = sqlite3.connect('ma_base.db')\n",
    "# cursor = mydb.cursor()\n",
    "\n",
    "# cursor.execute(\"\"\"\n",
    "# CREATE TABLE IF NOT EXISTS voiture(\n",
    "#      id INTEGER PRIMARY KEY AUTOINCREMENT UNIQUE,\n",
    "#      id2 INTEGER,\n",
    "#      Nom TEXT,\n",
    "#      Prix INTEGER,\n",
    "#      Mise_en_circulation DATE,\n",
    "#      Première Main INTEGER,\n",
    "#      Kilometrage INTEGER,\n",
    "#      Carburant TEXT,\n",
    "#      Boîte de vitesse TEXT,\n",
    "#      Puissance fiscale INTEGER,\n",
    "#      Puissance_din INTEGER\n",
    "#     )\n",
    "# \"\"\")\n",
    "\n",
    "# #csv_data = pd.read_csv(\"voiture.csv\", sep=',')\n",
    "# #print(csv_data)\n",
    "# for i in range(len(all_df)):\n",
    "#     if i == 0:\n",
    "#         print(True)\n",
    "#     else :\n",
    "#         cursor.execute('INSERT INTO voiture(id2, Nom, Prix, Mise_en_circulation, Première Main, Kilometrage, Carburant, Boîte de vitesse, Puissance fiscale, Puissance_din) VALUES(\"%s\", \"%s\", \"%s\",\"%s\", \"%s\", \"%s\",\"%s\", \"%s\", \"%s\",\"%s\", \"%s\")', row)\n",
    "\n",
    "#     print(all_df[i])\n",
    "\n",
    "# #close the connection to the database.\n",
    "# cursor.close()\n",
    "# print (\"Done\")"
   ]
  }
 ],
 "metadata": {
  "kernelspec": {
   "display_name": "Python 3",
   "language": "python",
   "name": "python3"
  },
  "language_info": {
   "codemirror_mode": {
    "name": "ipython",
    "version": 3
   },
   "file_extension": ".py",
   "mimetype": "text/x-python",
   "name": "python",
   "nbconvert_exporter": "python",
   "pygments_lexer": "ipython3",
   "version": "3.11.0"
  },
  "orig_nbformat": 4,
  "vscode": {
   "interpreter": {
    "hash": "aee8b7b246df8f9039afb4144a1f6fd8d2ca17a180786b69acc140d282b71a49"
   }
  }
 },
 "nbformat": 4,
 "nbformat_minor": 2
}
